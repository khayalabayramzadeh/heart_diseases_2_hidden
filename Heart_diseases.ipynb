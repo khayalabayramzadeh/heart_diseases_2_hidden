{
 "cells": [
  {
   "cell_type": "markdown",
   "id": "2a614a13",
   "metadata": {},
   "source": [
    "# Python Homework Simple Neural Processing WEEK 9"
   ]
  },
  {
   "cell_type": "markdown",
   "id": "81aa6fca",
   "metadata": {},
   "source": [
    "![](w9hw.png)"
   ]
  },
  {
   "cell_type": "markdown",
   "id": "08bdb739",
   "metadata": {},
   "source": [
    "<b>Questions:</b><br>\n",
    "1. What are the dimensions of the matrices you will use to represent your model (inputs, parameters, and \n",
    "outputs)? How will you integrate the concept of mini-batch training? <br>\n",
    "2. How to check whether or not you should keep training your model? <br>\n",
    "<b>Complete Homework with following steps: </b><br>\n",
    "1. As a first step, use MLP with 2 hidden layers containing 6 and 4 units respectively. Do not use pytorch, \n",
    "keras, tensorflow or any other libraries. You should create NN from scratch. <br>\n",
    "2. Name your final homework Script as “Heart_diseases”. <br>\n",
    "3. Create repository named “heart_diseases_2_hidden” in your Github account and push your homework Script \n",
    "to this repository. <br>\n",
    "4. Fork other users’ repositories, make pull requests (at least one, making three pull requests is desirable). <br>\n",
    "<b>Note: Your pull requests should either fix problems or add new features.</b><br>"
   ]
  },
  {
   "cell_type": "code",
   "execution_count": 1,
   "id": "1d84417a",
   "metadata": {},
   "outputs": [],
   "source": [
    "from warnings import filterwarnings\n",
    "filterwarnings('ignore')\n",
    "import pandas as pd\n",
    "import numpy as np\n",
    "import seaborn as sns\n",
    "import matplotlib.pyplot as plt"
   ]
  },
  {
   "cell_type": "code",
   "execution_count": 2,
   "id": "eaf76622",
   "metadata": {},
   "outputs": [],
   "source": [
    "data = pd.read_csv('heart.csv')\n",
    "df = data.copy()"
   ]
  },
  {
   "cell_type": "code",
   "execution_count": 3,
   "id": "271cb0aa",
   "metadata": {},
   "outputs": [
    {
     "data": {
      "text/html": [
       "<div>\n",
       "<style scoped>\n",
       "    .dataframe tbody tr th:only-of-type {\n",
       "        vertical-align: middle;\n",
       "    }\n",
       "\n",
       "    .dataframe tbody tr th {\n",
       "        vertical-align: top;\n",
       "    }\n",
       "\n",
       "    .dataframe thead th {\n",
       "        text-align: right;\n",
       "    }\n",
       "</style>\n",
       "<table border=\"1\" class=\"dataframe\">\n",
       "  <thead>\n",
       "    <tr style=\"text-align: right;\">\n",
       "      <th></th>\n",
       "      <th>age</th>\n",
       "      <th>sex</th>\n",
       "      <th>cp</th>\n",
       "      <th>trestbps</th>\n",
       "      <th>chol</th>\n",
       "      <th>fbs</th>\n",
       "      <th>restecg</th>\n",
       "      <th>thalach</th>\n",
       "      <th>exang</th>\n",
       "      <th>oldpeak</th>\n",
       "      <th>slope</th>\n",
       "      <th>ca</th>\n",
       "      <th>thal</th>\n",
       "      <th>target</th>\n",
       "    </tr>\n",
       "  </thead>\n",
       "  <tbody>\n",
       "    <tr>\n",
       "      <th>0</th>\n",
       "      <td>52</td>\n",
       "      <td>1</td>\n",
       "      <td>0</td>\n",
       "      <td>125</td>\n",
       "      <td>212</td>\n",
       "      <td>0</td>\n",
       "      <td>1</td>\n",
       "      <td>168</td>\n",
       "      <td>0</td>\n",
       "      <td>1.0</td>\n",
       "      <td>2</td>\n",
       "      <td>2</td>\n",
       "      <td>3</td>\n",
       "      <td>0</td>\n",
       "    </tr>\n",
       "    <tr>\n",
       "      <th>1</th>\n",
       "      <td>53</td>\n",
       "      <td>1</td>\n",
       "      <td>0</td>\n",
       "      <td>140</td>\n",
       "      <td>203</td>\n",
       "      <td>1</td>\n",
       "      <td>0</td>\n",
       "      <td>155</td>\n",
       "      <td>1</td>\n",
       "      <td>3.1</td>\n",
       "      <td>0</td>\n",
       "      <td>0</td>\n",
       "      <td>3</td>\n",
       "      <td>0</td>\n",
       "    </tr>\n",
       "    <tr>\n",
       "      <th>2</th>\n",
       "      <td>70</td>\n",
       "      <td>1</td>\n",
       "      <td>0</td>\n",
       "      <td>145</td>\n",
       "      <td>174</td>\n",
       "      <td>0</td>\n",
       "      <td>1</td>\n",
       "      <td>125</td>\n",
       "      <td>1</td>\n",
       "      <td>2.6</td>\n",
       "      <td>0</td>\n",
       "      <td>0</td>\n",
       "      <td>3</td>\n",
       "      <td>0</td>\n",
       "    </tr>\n",
       "    <tr>\n",
       "      <th>3</th>\n",
       "      <td>61</td>\n",
       "      <td>1</td>\n",
       "      <td>0</td>\n",
       "      <td>148</td>\n",
       "      <td>203</td>\n",
       "      <td>0</td>\n",
       "      <td>1</td>\n",
       "      <td>161</td>\n",
       "      <td>0</td>\n",
       "      <td>0.0</td>\n",
       "      <td>2</td>\n",
       "      <td>1</td>\n",
       "      <td>3</td>\n",
       "      <td>0</td>\n",
       "    </tr>\n",
       "    <tr>\n",
       "      <th>4</th>\n",
       "      <td>62</td>\n",
       "      <td>0</td>\n",
       "      <td>0</td>\n",
       "      <td>138</td>\n",
       "      <td>294</td>\n",
       "      <td>1</td>\n",
       "      <td>1</td>\n",
       "      <td>106</td>\n",
       "      <td>0</td>\n",
       "      <td>1.9</td>\n",
       "      <td>1</td>\n",
       "      <td>3</td>\n",
       "      <td>2</td>\n",
       "      <td>0</td>\n",
       "    </tr>\n",
       "  </tbody>\n",
       "</table>\n",
       "</div>"
      ],
      "text/plain": [
       "   age  sex  cp  trestbps  chol  fbs  restecg  thalach  exang  oldpeak  slope  \\\n",
       "0   52    1   0       125   212    0        1      168      0      1.0      2   \n",
       "1   53    1   0       140   203    1        0      155      1      3.1      0   \n",
       "2   70    1   0       145   174    0        1      125      1      2.6      0   \n",
       "3   61    1   0       148   203    0        1      161      0      0.0      2   \n",
       "4   62    0   0       138   294    1        1      106      0      1.9      1   \n",
       "\n",
       "   ca  thal  target  \n",
       "0   2     3       0  \n",
       "1   0     3       0  \n",
       "2   0     3       0  \n",
       "3   1     3       0  \n",
       "4   3     2       0  "
      ]
     },
     "execution_count": 3,
     "metadata": {},
     "output_type": "execute_result"
    }
   ],
   "source": [
    "df.head()"
   ]
  },
  {
   "cell_type": "code",
   "execution_count": 4,
   "id": "34b9177a",
   "metadata": {},
   "outputs": [
    {
     "name": "stdout",
     "output_type": "stream",
     "text": [
      "<class 'pandas.core.frame.DataFrame'>\n",
      "RangeIndex: 1025 entries, 0 to 1024\n",
      "Data columns (total 14 columns):\n",
      " #   Column    Non-Null Count  Dtype  \n",
      "---  ------    --------------  -----  \n",
      " 0   age       1025 non-null   int64  \n",
      " 1   sex       1025 non-null   int64  \n",
      " 2   cp        1025 non-null   int64  \n",
      " 3   trestbps  1025 non-null   int64  \n",
      " 4   chol      1025 non-null   int64  \n",
      " 5   fbs       1025 non-null   int64  \n",
      " 6   restecg   1025 non-null   int64  \n",
      " 7   thalach   1025 non-null   int64  \n",
      " 8   exang     1025 non-null   int64  \n",
      " 9   oldpeak   1025 non-null   float64\n",
      " 10  slope     1025 non-null   int64  \n",
      " 11  ca        1025 non-null   int64  \n",
      " 12  thal      1025 non-null   int64  \n",
      " 13  target    1025 non-null   int64  \n",
      "dtypes: float64(1), int64(13)\n",
      "memory usage: 112.2 KB\n"
     ]
    }
   ],
   "source": [
    "df.info()"
   ]
  },
  {
   "cell_type": "code",
   "execution_count": 5,
   "id": "630ce1f2",
   "metadata": {},
   "outputs": [
    {
     "data": {
      "text/plain": [
       "(1025, 14)"
      ]
     },
     "execution_count": 5,
     "metadata": {},
     "output_type": "execute_result"
    }
   ],
   "source": [
    "df.shape"
   ]
  },
  {
   "cell_type": "code",
   "execution_count": 6,
   "id": "4788cd85",
   "metadata": {},
   "outputs": [
    {
     "data": {
      "text/plain": [
       "Index(['age', 'sex', 'cp', 'trestbps', 'chol', 'fbs', 'restecg', 'thalach',\n",
       "       'exang', 'oldpeak', 'slope', 'ca', 'thal', 'target'],\n",
       "      dtype='object')"
      ]
     },
     "execution_count": 6,
     "metadata": {},
     "output_type": "execute_result"
    }
   ],
   "source": [
    "df.columns"
   ]
  },
  {
   "cell_type": "code",
   "execution_count": 7,
   "id": "f8f337d1",
   "metadata": {},
   "outputs": [
    {
     "data": {
      "text/html": [
       "<div>\n",
       "<style scoped>\n",
       "    .dataframe tbody tr th:only-of-type {\n",
       "        vertical-align: middle;\n",
       "    }\n",
       "\n",
       "    .dataframe tbody tr th {\n",
       "        vertical-align: top;\n",
       "    }\n",
       "\n",
       "    .dataframe thead th {\n",
       "        text-align: right;\n",
       "    }\n",
       "</style>\n",
       "<table border=\"1\" class=\"dataframe\">\n",
       "  <thead>\n",
       "    <tr style=\"text-align: right;\">\n",
       "      <th></th>\n",
       "      <th>age</th>\n",
       "      <th>sex</th>\n",
       "      <th>cp</th>\n",
       "      <th>trestbps</th>\n",
       "      <th>chol</th>\n",
       "      <th>fbs</th>\n",
       "      <th>restecg</th>\n",
       "      <th>thalach</th>\n",
       "      <th>exang</th>\n",
       "      <th>oldpeak</th>\n",
       "      <th>slope</th>\n",
       "      <th>ca</th>\n",
       "      <th>thal</th>\n",
       "      <th>target</th>\n",
       "    </tr>\n",
       "  </thead>\n",
       "  <tbody>\n",
       "    <tr>\n",
       "      <th>count</th>\n",
       "      <td>1025.000000</td>\n",
       "      <td>1025.000000</td>\n",
       "      <td>1025.000000</td>\n",
       "      <td>1025.000000</td>\n",
       "      <td>1025.00000</td>\n",
       "      <td>1025.000000</td>\n",
       "      <td>1025.000000</td>\n",
       "      <td>1025.000000</td>\n",
       "      <td>1025.000000</td>\n",
       "      <td>1025.000000</td>\n",
       "      <td>1025.000000</td>\n",
       "      <td>1025.000000</td>\n",
       "      <td>1025.000000</td>\n",
       "      <td>1025.000000</td>\n",
       "    </tr>\n",
       "    <tr>\n",
       "      <th>mean</th>\n",
       "      <td>54.434146</td>\n",
       "      <td>0.695610</td>\n",
       "      <td>0.942439</td>\n",
       "      <td>131.611707</td>\n",
       "      <td>246.00000</td>\n",
       "      <td>0.149268</td>\n",
       "      <td>0.529756</td>\n",
       "      <td>149.114146</td>\n",
       "      <td>0.336585</td>\n",
       "      <td>1.071512</td>\n",
       "      <td>1.385366</td>\n",
       "      <td>0.754146</td>\n",
       "      <td>2.323902</td>\n",
       "      <td>0.513171</td>\n",
       "    </tr>\n",
       "    <tr>\n",
       "      <th>std</th>\n",
       "      <td>9.072290</td>\n",
       "      <td>0.460373</td>\n",
       "      <td>1.029641</td>\n",
       "      <td>17.516718</td>\n",
       "      <td>51.59251</td>\n",
       "      <td>0.356527</td>\n",
       "      <td>0.527878</td>\n",
       "      <td>23.005724</td>\n",
       "      <td>0.472772</td>\n",
       "      <td>1.175053</td>\n",
       "      <td>0.617755</td>\n",
       "      <td>1.030798</td>\n",
       "      <td>0.620660</td>\n",
       "      <td>0.500070</td>\n",
       "    </tr>\n",
       "    <tr>\n",
       "      <th>min</th>\n",
       "      <td>29.000000</td>\n",
       "      <td>0.000000</td>\n",
       "      <td>0.000000</td>\n",
       "      <td>94.000000</td>\n",
       "      <td>126.00000</td>\n",
       "      <td>0.000000</td>\n",
       "      <td>0.000000</td>\n",
       "      <td>71.000000</td>\n",
       "      <td>0.000000</td>\n",
       "      <td>0.000000</td>\n",
       "      <td>0.000000</td>\n",
       "      <td>0.000000</td>\n",
       "      <td>0.000000</td>\n",
       "      <td>0.000000</td>\n",
       "    </tr>\n",
       "    <tr>\n",
       "      <th>25%</th>\n",
       "      <td>48.000000</td>\n",
       "      <td>0.000000</td>\n",
       "      <td>0.000000</td>\n",
       "      <td>120.000000</td>\n",
       "      <td>211.00000</td>\n",
       "      <td>0.000000</td>\n",
       "      <td>0.000000</td>\n",
       "      <td>132.000000</td>\n",
       "      <td>0.000000</td>\n",
       "      <td>0.000000</td>\n",
       "      <td>1.000000</td>\n",
       "      <td>0.000000</td>\n",
       "      <td>2.000000</td>\n",
       "      <td>0.000000</td>\n",
       "    </tr>\n",
       "    <tr>\n",
       "      <th>50%</th>\n",
       "      <td>56.000000</td>\n",
       "      <td>1.000000</td>\n",
       "      <td>1.000000</td>\n",
       "      <td>130.000000</td>\n",
       "      <td>240.00000</td>\n",
       "      <td>0.000000</td>\n",
       "      <td>1.000000</td>\n",
       "      <td>152.000000</td>\n",
       "      <td>0.000000</td>\n",
       "      <td>0.800000</td>\n",
       "      <td>1.000000</td>\n",
       "      <td>0.000000</td>\n",
       "      <td>2.000000</td>\n",
       "      <td>1.000000</td>\n",
       "    </tr>\n",
       "    <tr>\n",
       "      <th>75%</th>\n",
       "      <td>61.000000</td>\n",
       "      <td>1.000000</td>\n",
       "      <td>2.000000</td>\n",
       "      <td>140.000000</td>\n",
       "      <td>275.00000</td>\n",
       "      <td>0.000000</td>\n",
       "      <td>1.000000</td>\n",
       "      <td>166.000000</td>\n",
       "      <td>1.000000</td>\n",
       "      <td>1.800000</td>\n",
       "      <td>2.000000</td>\n",
       "      <td>1.000000</td>\n",
       "      <td>3.000000</td>\n",
       "      <td>1.000000</td>\n",
       "    </tr>\n",
       "    <tr>\n",
       "      <th>max</th>\n",
       "      <td>77.000000</td>\n",
       "      <td>1.000000</td>\n",
       "      <td>3.000000</td>\n",
       "      <td>200.000000</td>\n",
       "      <td>564.00000</td>\n",
       "      <td>1.000000</td>\n",
       "      <td>2.000000</td>\n",
       "      <td>202.000000</td>\n",
       "      <td>1.000000</td>\n",
       "      <td>6.200000</td>\n",
       "      <td>2.000000</td>\n",
       "      <td>4.000000</td>\n",
       "      <td>3.000000</td>\n",
       "      <td>1.000000</td>\n",
       "    </tr>\n",
       "  </tbody>\n",
       "</table>\n",
       "</div>"
      ],
      "text/plain": [
       "               age          sex           cp     trestbps        chol  \\\n",
       "count  1025.000000  1025.000000  1025.000000  1025.000000  1025.00000   \n",
       "mean     54.434146     0.695610     0.942439   131.611707   246.00000   \n",
       "std       9.072290     0.460373     1.029641    17.516718    51.59251   \n",
       "min      29.000000     0.000000     0.000000    94.000000   126.00000   \n",
       "25%      48.000000     0.000000     0.000000   120.000000   211.00000   \n",
       "50%      56.000000     1.000000     1.000000   130.000000   240.00000   \n",
       "75%      61.000000     1.000000     2.000000   140.000000   275.00000   \n",
       "max      77.000000     1.000000     3.000000   200.000000   564.00000   \n",
       "\n",
       "               fbs      restecg      thalach        exang      oldpeak  \\\n",
       "count  1025.000000  1025.000000  1025.000000  1025.000000  1025.000000   \n",
       "mean      0.149268     0.529756   149.114146     0.336585     1.071512   \n",
       "std       0.356527     0.527878    23.005724     0.472772     1.175053   \n",
       "min       0.000000     0.000000    71.000000     0.000000     0.000000   \n",
       "25%       0.000000     0.000000   132.000000     0.000000     0.000000   \n",
       "50%       0.000000     1.000000   152.000000     0.000000     0.800000   \n",
       "75%       0.000000     1.000000   166.000000     1.000000     1.800000   \n",
       "max       1.000000     2.000000   202.000000     1.000000     6.200000   \n",
       "\n",
       "             slope           ca         thal       target  \n",
       "count  1025.000000  1025.000000  1025.000000  1025.000000  \n",
       "mean      1.385366     0.754146     2.323902     0.513171  \n",
       "std       0.617755     1.030798     0.620660     0.500070  \n",
       "min       0.000000     0.000000     0.000000     0.000000  \n",
       "25%       1.000000     0.000000     2.000000     0.000000  \n",
       "50%       1.000000     0.000000     2.000000     1.000000  \n",
       "75%       2.000000     1.000000     3.000000     1.000000  \n",
       "max       2.000000     4.000000     3.000000     1.000000  "
      ]
     },
     "execution_count": 7,
     "metadata": {},
     "output_type": "execute_result"
    }
   ],
   "source": [
    "df.describe()"
   ]
  },
  {
   "cell_type": "code",
   "execution_count": 8,
   "id": "fcced684",
   "metadata": {},
   "outputs": [
    {
     "data": {
      "text/plain": [
       "False"
      ]
     },
     "execution_count": 8,
     "metadata": {},
     "output_type": "execute_result"
    }
   ],
   "source": [
    "df.isnull().sum().any()"
   ]
  },
  {
   "cell_type": "code",
   "execution_count": 9,
   "id": "a4e56505",
   "metadata": {},
   "outputs": [
    {
     "data": {
      "text/plain": [
       "<AxesSubplot:>"
      ]
     },
     "execution_count": 9,
     "metadata": {},
     "output_type": "execute_result"
    },
    {
     "data": {
      "image/png": "[encoded data removed]",
      "text/plain": [
       "<Figure size 1800x720 with 2 Axes>"
      ]
     },
     "metadata": {
      "needs_background": "light"
     },
     "output_type": "display_data"
    }
   ],
   "source": [
    "import missingno as msno\n",
    "msno.matrix(df)"
   ]
  },
  {
   "cell_type": "code",
   "execution_count": 10,
   "id": "6bec5471",
   "metadata": {
    "scrolled": false
   },
   "outputs": [
    {
     "data": {
      "image/png": "[encoded data removed]",
      "text/plain": [
       "<Figure size 1152x432 with 2 Axes>"
      ]
     },
     "metadata": {
      "needs_background": "light"
     },
     "output_type": "display_data"
    }
   ],
   "source": [
    "plt.figure(figsize=(16, 6))\n",
    "# define the mask to set the values in the upper triangle to True\n",
    "mask = np.triu(np.ones_like(df.corr(), dtype=bool))\n",
    "heatmap = sns.heatmap(df.corr(), mask=mask, vmin=-1, vmax=1, annot=True, cmap='BrBG')\n",
    "heatmap.set_title('Correlation Heatmap', fontdict={'fontsize':18}, pad=16);"
   ]
  },
  {
   "cell_type": "code",
   "execution_count": 11,
   "id": "edc551c4",
   "metadata": {
    "scrolled": true
   },
   "outputs": [
    {
     "data": {
      "text/plain": [
       "1    526\n",
       "0    499\n",
       "Name: target, dtype: int64"
      ]
     },
     "execution_count": 11,
     "metadata": {},
     "output_type": "execute_result"
    }
   ],
   "source": [
    "df['target'].value_counts()"
   ]
  },
  {
   "cell_type": "code",
   "execution_count": 12,
   "id": "c0ef55b7",
   "metadata": {
    "scrolled": true
   },
   "outputs": [
    {
     "data": {
      "text/plain": [
       "<AxesSubplot:xlabel='target', ylabel='count'>"
      ]
     },
     "execution_count": 12,
     "metadata": {},
     "output_type": "execute_result"
    },
    {
     "data": {
      "image/png": "[encoded data removed]",
      "text/plain": [
       "<Figure size 432x288 with 1 Axes>"
      ]
     },
     "metadata": {
      "needs_background": "light"
     },
     "output_type": "display_data"
    }
   ],
   "source": [
    "sns.countplot(data=df, x=df['target'])"
   ]
  },
  {
   "cell_type": "code",
   "execution_count": 13,
   "id": "a5c46cfc",
   "metadata": {},
   "outputs": [
    {
     "data": {
      "image/png": "[encoded data removed]",
      "text/plain": [
       "<Figure size 432x288 with 1 Axes>"
      ]
     },
     "metadata": {
      "needs_background": "light"
     },
     "output_type": "display_data"
    }
   ],
   "source": [
    "x = 'target'\n",
    "\n",
    "ax = df[x].value_counts().sort_values().plot(kind='barh')\n",
    "totals = []\n",
    "\n",
    "for i in ax.patches:\n",
    "    totals.append(i.get_width())\n",
    "    \n",
    "total = sum(totals)\n",
    "\n",
    "for i in ax.patches:\n",
    "    ax.text(i.get_width()+.3, i.get_y()+.2,\n",
    "    str(round((i.get_width()/total)*100, 2)) + '%',\n",
    "    fontsize = 10, color = 'black')\n",
    "    \n",
    "ax.grid(axis='x')\n",
    "plt.suptitle(x, fontsize=20)\n",
    "plt.show()"
   ]
  },
  {
   "cell_type": "code",
   "execution_count": 14,
   "id": "5ac617f3",
   "metadata": {},
   "outputs": [
    {
     "data": {
      "text/html": [
       "<div>\n",
       "<style scoped>\n",
       "    .dataframe tbody tr th:only-of-type {\n",
       "        vertical-align: middle;\n",
       "    }\n",
       "\n",
       "    .dataframe tbody tr th {\n",
       "        vertical-align: top;\n",
       "    }\n",
       "\n",
       "    .dataframe thead th {\n",
       "        text-align: right;\n",
       "    }\n",
       "</style>\n",
       "<table border=\"1\" class=\"dataframe\">\n",
       "  <thead>\n",
       "    <tr style=\"text-align: right;\">\n",
       "      <th></th>\n",
       "      <th>age</th>\n",
       "      <th>sex</th>\n",
       "      <th>cp</th>\n",
       "      <th>trestbps</th>\n",
       "      <th>chol</th>\n",
       "      <th>fbs</th>\n",
       "      <th>restecg</th>\n",
       "      <th>thalach</th>\n",
       "      <th>exang</th>\n",
       "      <th>oldpeak</th>\n",
       "      <th>slope</th>\n",
       "      <th>ca</th>\n",
       "      <th>thal</th>\n",
       "      <th>target</th>\n",
       "    </tr>\n",
       "  </thead>\n",
       "  <tbody>\n",
       "    <tr>\n",
       "      <th>0</th>\n",
       "      <td>52</td>\n",
       "      <td>1</td>\n",
       "      <td>0</td>\n",
       "      <td>125</td>\n",
       "      <td>212</td>\n",
       "      <td>0</td>\n",
       "      <td>1</td>\n",
       "      <td>168</td>\n",
       "      <td>0</td>\n",
       "      <td>1.0</td>\n",
       "      <td>2</td>\n",
       "      <td>2</td>\n",
       "      <td>3</td>\n",
       "      <td>0</td>\n",
       "    </tr>\n",
       "    <tr>\n",
       "      <th>1</th>\n",
       "      <td>53</td>\n",
       "      <td>1</td>\n",
       "      <td>0</td>\n",
       "      <td>140</td>\n",
       "      <td>203</td>\n",
       "      <td>1</td>\n",
       "      <td>0</td>\n",
       "      <td>155</td>\n",
       "      <td>1</td>\n",
       "      <td>3.1</td>\n",
       "      <td>0</td>\n",
       "      <td>0</td>\n",
       "      <td>3</td>\n",
       "      <td>0</td>\n",
       "    </tr>\n",
       "    <tr>\n",
       "      <th>2</th>\n",
       "      <td>70</td>\n",
       "      <td>1</td>\n",
       "      <td>0</td>\n",
       "      <td>145</td>\n",
       "      <td>174</td>\n",
       "      <td>0</td>\n",
       "      <td>1</td>\n",
       "      <td>125</td>\n",
       "      <td>1</td>\n",
       "      <td>2.6</td>\n",
       "      <td>0</td>\n",
       "      <td>0</td>\n",
       "      <td>3</td>\n",
       "      <td>0</td>\n",
       "    </tr>\n",
       "    <tr>\n",
       "      <th>3</th>\n",
       "      <td>61</td>\n",
       "      <td>1</td>\n",
       "      <td>0</td>\n",
       "      <td>148</td>\n",
       "      <td>203</td>\n",
       "      <td>0</td>\n",
       "      <td>1</td>\n",
       "      <td>161</td>\n",
       "      <td>0</td>\n",
       "      <td>0.0</td>\n",
       "      <td>2</td>\n",
       "      <td>1</td>\n",
       "      <td>3</td>\n",
       "      <td>0</td>\n",
       "    </tr>\n",
       "    <tr>\n",
       "      <th>4</th>\n",
       "      <td>62</td>\n",
       "      <td>0</td>\n",
       "      <td>0</td>\n",
       "      <td>138</td>\n",
       "      <td>294</td>\n",
       "      <td>1</td>\n",
       "      <td>1</td>\n",
       "      <td>106</td>\n",
       "      <td>0</td>\n",
       "      <td>1.9</td>\n",
       "      <td>1</td>\n",
       "      <td>3</td>\n",
       "      <td>2</td>\n",
       "      <td>0</td>\n",
       "    </tr>\n",
       "  </tbody>\n",
       "</table>\n",
       "</div>"
      ],
      "text/plain": [
       "   age  sex  cp  trestbps  chol  fbs  restecg  thalach  exang  oldpeak  slope  \\\n",
       "0   52    1   0       125   212    0        1      168      0      1.0      2   \n",
       "1   53    1   0       140   203    1        0      155      1      3.1      0   \n",
       "2   70    1   0       145   174    0        1      125      1      2.6      0   \n",
       "3   61    1   0       148   203    0        1      161      0      0.0      2   \n",
       "4   62    0   0       138   294    1        1      106      0      1.9      1   \n",
       "\n",
       "   ca  thal  target  \n",
       "0   2     3       0  \n",
       "1   0     3       0  \n",
       "2   0     3       0  \n",
       "3   1     3       0  \n",
       "4   3     2       0  "
      ]
     },
     "execution_count": 14,
     "metadata": {},
     "output_type": "execute_result"
    }
   ],
   "source": [
    "df.head()"
   ]
  },
  {
   "cell_type": "code",
   "execution_count": 15,
   "id": "4cb23e32",
   "metadata": {},
   "outputs": [],
   "source": [
    "X = df.drop('target', axis=1)\n",
    "y = df['target'].values.reshape(-1,1)"
   ]
  },
  {
   "cell_type": "code",
   "execution_count": 16,
   "id": "6f70d66d",
   "metadata": {},
   "outputs": [],
   "source": [
    "from sklearn.preprocessing import RobustScaler\n",
    "r_scaler = RobustScaler()\n",
    "X = r_scaler.fit_transform(X)"
   ]
  },
  {
   "cell_type": "code",
   "execution_count": 17,
   "id": "e48ad492",
   "metadata": {},
   "outputs": [],
   "source": [
    "from sklearn.model_selection import train_test_split\n",
    "X_train, X_test, y_train, y_test = train_test_split(X, y, test_size=.2, shuffle=True, random_state=400, stratify=y)"
   ]
  },
  {
   "cell_type": "code",
   "execution_count": 18,
   "id": "dfc5b191",
   "metadata": {},
   "outputs": [],
   "source": [
    "import torch\n",
    "import torch.nn as nn\n",
    "import torch.nn.functional as F\n",
    "import torch.optim as optim\n",
    "from torch.utils.data import TensorDataset, DataLoader"
   ]
  },
  {
   "cell_type": "code",
   "execution_count": 19,
   "id": "5208bfe9",
   "metadata": {},
   "outputs": [],
   "source": [
    "X_train = torch.from_numpy(X_train).float()\n",
    "y_train = torch.from_numpy(y_train).float()\n",
    "X_test = torch.from_numpy(X_test).float()\n",
    "y_test = torch.from_numpy(y_test).float()"
   ]
  },
  {
   "cell_type": "code",
   "execution_count": 20,
   "id": "01c5a5ad",
   "metadata": {},
   "outputs": [],
   "source": [
    "train_dataset = TensorDataset(X_train, y_train)\n",
    "test_dataset = TensorDataset(X_test, y_test)"
   ]
  },
  {
   "cell_type": "code",
   "execution_count": 21,
   "id": "35d09388",
   "metadata": {},
   "outputs": [],
   "source": [
    "train_loader = DataLoader(train_dataset, batch_size=124, shuffle=True)\n",
    "test_loader = DataLoader(test_dataset, shuffle=True)"
   ]
  },
  {
   "cell_type": "code",
   "execution_count": 22,
   "id": "1cc3a984",
   "metadata": {},
   "outputs": [
    {
     "data": {
      "text/plain": [
       "torch.Size([820, 13])"
      ]
     },
     "execution_count": 22,
     "metadata": {},
     "output_type": "execute_result"
    }
   ],
   "source": [
    "X_train.shape"
   ]
  },
  {
   "cell_type": "code",
   "execution_count": 23,
   "id": "ef729ec1",
   "metadata": {},
   "outputs": [
    {
     "data": {
      "text/plain": [
       "torch.Size([820, 1])"
      ]
     },
     "execution_count": 23,
     "metadata": {},
     "output_type": "execute_result"
    }
   ],
   "source": [
    "y_train.shape"
   ]
  },
  {
   "cell_type": "code",
   "execution_count": 24,
   "id": "d3bab9d2",
   "metadata": {},
   "outputs": [],
   "source": [
    "class Model(nn.Module):\n",
    "    def __init__(self):\n",
    "        super(Model, self).__init__()\n",
    "        \n",
    "        self.fc1 = nn.Linear(13,64)\n",
    "        self.fc2 = nn.Linear(64,128)\n",
    "        self.fc3 = nn.Linear(128,256)\n",
    "        self.out = nn.Linear(256,1)\n",
    "        \n",
    "    def forward(self, X):\n",
    "        X = F.relu(self.fc1(X))\n",
    "        X = F.relu(self.fc2(X))\n",
    "        X = F.relu(self.fc3(X))\n",
    "        X = self.out(X)\n",
    "        return X"
   ]
  },
  {
   "cell_type": "code",
   "execution_count": 25,
   "id": "41ed9298",
   "metadata": {},
   "outputs": [],
   "source": [
    "model = Model()"
   ]
  },
  {
   "cell_type": "code",
   "execution_count": 26,
   "id": "bad593aa",
   "metadata": {},
   "outputs": [],
   "source": [
    "def get_n_params(model):\n",
    "    pp=0\n",
    "    for p in list(model.parameters()):\n",
    "        nn=1\n",
    "        for s in list(p.size()):\n",
    "            nn=nn*s\n",
    "        pp+=nn\n",
    "    return pp"
   ]
  },
  {
   "cell_type": "code",
   "execution_count": 27,
   "id": "075b701d",
   "metadata": {},
   "outputs": [
    {
     "data": {
      "text/plain": [
       "42497"
      ]
     },
     "execution_count": 27,
     "metadata": {},
     "output_type": "execute_result"
    }
   ],
   "source": [
    "get_n_params(model)"
   ]
  },
  {
   "cell_type": "code",
   "execution_count": 28,
   "id": "835566fc",
   "metadata": {},
   "outputs": [],
   "source": [
    "num_epochs = 120\n",
    "l_rate = 0.05\n",
    "criterion = nn.BCEWithLogitsLoss()\n",
    "optimizer = optim.SGD(model.parameters(), lr=l_rate)"
   ]
  },
  {
   "cell_type": "code",
   "execution_count": 29,
   "id": "b47e4f04",
   "metadata": {},
   "outputs": [],
   "source": [
    "def binary_acc(y_pred, y_test):\n",
    "    y_pred_tag = torch.round(torch.sigmoid(y_pred))\n",
    "    \n",
    "    correct_results_sum = (y_pred_tag==y_test).sum().float()\n",
    "    acc = correct_results_sum / y_test.shape[0]\n",
    "    acc = torch.round(acc*100)\n",
    "    return acc"
   ]
  },
  {
   "cell_type": "code",
   "execution_count": 30,
   "id": "dc38afe2",
   "metadata": {
    "scrolled": false
   },
   "outputs": [
    {
     "name": "stdout",
     "output_type": "stream",
     "text": [
      "Epoch: 001: |Loss:0.69360 |Acc: 48.714\n",
      "Epoch: 002: |Loss:0.68946 |Acc: 48.571\n",
      "Epoch: 003: |Loss:0.68517 |Acc: 48.714\n",
      "Epoch: 004: |Loss:0.68044 |Acc: 53.857\n",
      "Epoch: 005: |Loss:0.67586 |Acc: 66.714\n",
      "Epoch: 006: |Loss:0.67026 |Acc: 71.857\n",
      "Epoch: 007: |Loss:0.66426 |Acc: 74.143\n",
      "Epoch: 008: |Loss:0.65782 |Acc: 73.286\n",
      "Epoch: 009: |Loss:0.64961 |Acc: 74.857\n",
      "Epoch: 010: |Loss:0.64052 |Acc: 79.143\n",
      "Epoch: 011: |Loss:0.62908 |Acc: 79.429\n",
      "Epoch: 012: |Loss:0.61713 |Acc: 80.714\n",
      "Epoch: 013: |Loss:0.60173 |Acc: 81.429\n",
      "Epoch: 014: |Loss:0.58694 |Acc: 81.857\n",
      "Epoch: 015: |Loss:0.56728 |Acc: 81.714\n",
      "Epoch: 016: |Loss:0.54702 |Acc: 82.286\n",
      "Epoch: 017: |Loss:0.52756 |Acc: 81.714\n",
      "Epoch: 018: |Loss:0.51085 |Acc: 81.286\n",
      "Epoch: 019: |Loss:0.48970 |Acc: 82.143\n",
      "Epoch: 020: |Loss:0.47038 |Acc: 82.571\n",
      "Epoch: 021: |Loss:0.45326 |Acc: 82.714\n",
      "Epoch: 022: |Loss:0.43813 |Acc: 84.000\n",
      "Epoch: 023: |Loss:0.42517 |Acc: 84.429\n",
      "Epoch: 024: |Loss:0.41282 |Acc: 84.429\n",
      "Epoch: 025: |Loss:0.40273 |Acc: 84.571\n",
      "Epoch: 026: |Loss:0.39228 |Acc: 85.143\n",
      "Epoch: 027: |Loss:0.38491 |Acc: 84.714\n",
      "Epoch: 028: |Loss:0.37824 |Acc: 85.143\n",
      "Epoch: 029: |Loss:0.37805 |Acc: 85.429\n",
      "Epoch: 030: |Loss:0.36943 |Acc: 84.857\n",
      "Epoch: 031: |Loss:0.35800 |Acc: 85.857\n",
      "Epoch: 032: |Loss:0.36583 |Acc: 84.857\n",
      "Epoch: 033: |Loss:0.36140 |Acc: 85.000\n",
      "Epoch: 034: |Loss:0.35731 |Acc: 86.286\n",
      "Epoch: 035: |Loss:0.34189 |Acc: 86.143\n",
      "Epoch: 036: |Loss:0.34176 |Acc: 87.286\n",
      "Epoch: 037: |Loss:0.34486 |Acc: 87.571\n",
      "Epoch: 038: |Loss:0.33753 |Acc: 86.714\n",
      "Epoch: 039: |Loss:0.33657 |Acc: 87.714\n",
      "Epoch: 040: |Loss:0.33392 |Acc: 87.286\n",
      "Epoch: 041: |Loss:0.33491 |Acc: 88.286\n",
      "Epoch: 042: |Loss:0.32814 |Acc: 87.857\n",
      "Epoch: 043: |Loss:0.32478 |Acc: 88.000\n",
      "Epoch: 044: |Loss:0.31997 |Acc: 88.286\n",
      "Epoch: 045: |Loss:0.32000 |Acc: 87.857\n",
      "Epoch: 046: |Loss:0.31712 |Acc: 88.714\n",
      "Epoch: 047: |Loss:0.31713 |Acc: 88.571\n",
      "Epoch: 048: |Loss:0.31491 |Acc: 88.571\n",
      "Epoch: 049: |Loss:0.31752 |Acc: 88.143\n",
      "Epoch: 050: |Loss:0.31707 |Acc: 88.857\n",
      "Epoch: 051: |Loss:0.31163 |Acc: 88.286\n",
      "Epoch: 052: |Loss:0.30964 |Acc: 88.714\n",
      "Epoch: 053: |Loss:0.30480 |Acc: 88.857\n",
      "Epoch: 054: |Loss:0.30606 |Acc: 88.714\n",
      "Epoch: 055: |Loss:0.30105 |Acc: 89.143\n",
      "Epoch: 056: |Loss:0.29795 |Acc: 88.857\n",
      "Epoch: 057: |Loss:0.29797 |Acc: 88.857\n",
      "Epoch: 058: |Loss:0.29361 |Acc: 89.000\n",
      "Epoch: 059: |Loss:0.29315 |Acc: 89.143\n",
      "Epoch: 060: |Loss:0.29768 |Acc: 89.143\n",
      "Epoch: 061: |Loss:0.29070 |Acc: 89.429\n",
      "Epoch: 062: |Loss:0.29158 |Acc: 89.000\n",
      "Epoch: 063: |Loss:0.28802 |Acc: 89.571\n",
      "Epoch: 064: |Loss:0.28405 |Acc: 89.143\n",
      "Epoch: 065: |Loss:0.28488 |Acc: 89.429\n",
      "Epoch: 066: |Loss:0.28334 |Acc: 89.286\n",
      "Epoch: 067: |Loss:0.27828 |Acc: 89.429\n",
      "Epoch: 068: |Loss:0.27780 |Acc: 90.143\n",
      "Epoch: 069: |Loss:0.28068 |Acc: 89.000\n",
      "Epoch: 070: |Loss:0.27463 |Acc: 89.143\n",
      "Epoch: 071: |Loss:0.26955 |Acc: 90.714\n",
      "Epoch: 072: |Loss:0.27712 |Acc: 89.429\n",
      "Epoch: 073: |Loss:0.27631 |Acc: 90.000\n",
      "Epoch: 074: |Loss:0.26566 |Acc: 90.714\n",
      "Epoch: 075: |Loss:0.27509 |Acc: 89.000\n",
      "Epoch: 076: |Loss:0.26521 |Acc: 90.571\n",
      "Epoch: 077: |Loss:0.26275 |Acc: 90.857\n",
      "Epoch: 078: |Loss:0.26072 |Acc: 90.571\n",
      "Epoch: 079: |Loss:0.25318 |Acc: 91.000\n",
      "Epoch: 080: |Loss:0.25573 |Acc: 90.571\n",
      "Epoch: 081: |Loss:0.25207 |Acc: 91.286\n",
      "Epoch: 082: |Loss:0.25339 |Acc: 90.429\n",
      "Epoch: 083: |Loss:0.25072 |Acc: 91.286\n",
      "Epoch: 084: |Loss:0.24692 |Acc: 91.286\n",
      "Epoch: 085: |Loss:0.24397 |Acc: 91.143\n",
      "Epoch: 086: |Loss:0.24445 |Acc: 91.143\n",
      "Epoch: 087: |Loss:0.24339 |Acc: 91.571\n",
      "Epoch: 088: |Loss:0.23628 |Acc: 91.571\n",
      "Epoch: 089: |Loss:0.23980 |Acc: 92.143\n",
      "Epoch: 090: |Loss:0.24322 |Acc: 91.571\n",
      "Epoch: 091: |Loss:0.23538 |Acc: 92.714\n",
      "Epoch: 092: |Loss:0.23434 |Acc: 91.714\n",
      "Epoch: 093: |Loss:0.23171 |Acc: 92.286\n",
      "Epoch: 094: |Loss:0.23286 |Acc: 92.143\n",
      "Epoch: 095: |Loss:0.23185 |Acc: 92.571\n",
      "Epoch: 096: |Loss:0.22501 |Acc: 93.000\n",
      "Epoch: 097: |Loss:0.22324 |Acc: 93.714\n",
      "Epoch: 098: |Loss:0.21886 |Acc: 93.571\n",
      "Epoch: 099: |Loss:0.21775 |Acc: 93.286\n",
      "Epoch: 100: |Loss:0.22181 |Acc: 93.429\n",
      "Epoch: 101: |Loss:0.21993 |Acc: 93.429\n",
      "Epoch: 102: |Loss:0.21484 |Acc: 93.571\n",
      "Epoch: 103: |Loss:0.21396 |Acc: 94.143\n",
      "Epoch: 104: |Loss:0.20950 |Acc: 93.714\n",
      "Epoch: 105: |Loss:0.21019 |Acc: 93.714\n",
      "Epoch: 106: |Loss:0.21189 |Acc: 93.857\n",
      "Epoch: 107: |Loss:0.20803 |Acc: 94.000\n",
      "Epoch: 108: |Loss:0.20289 |Acc: 93.571\n",
      "Epoch: 109: |Loss:0.20548 |Acc: 93.429\n",
      "Epoch: 110: |Loss:0.19793 |Acc: 94.000\n",
      "Epoch: 111: |Loss:0.19952 |Acc: 94.286\n",
      "Epoch: 112: |Loss:0.19925 |Acc: 93.714\n",
      "Epoch: 113: |Loss:0.19228 |Acc: 94.143\n",
      "Epoch: 114: |Loss:0.19444 |Acc: 94.000\n",
      "Epoch: 115: |Loss:0.19266 |Acc: 93.857\n",
      "Epoch: 116: |Loss:0.19028 |Acc: 93.857\n",
      "Epoch: 117: |Loss:0.18676 |Acc: 94.000\n",
      "Epoch: 118: |Loss:0.18809 |Acc: 94.000\n",
      "Epoch: 119: |Loss:0.18202 |Acc: 94.714\n",
      "Epoch: 120: |Loss:0.18148 |Acc: 94.143\n"
     ]
    }
   ],
   "source": [
    "model.train()\n",
    "for e in range(1, num_epochs+1):\n",
    "    epoch_loss = 0\n",
    "    epoch_acc = 0\n",
    "    for X_batch, y_batch in train_loader:\n",
    "        optimizer.zero_grad()\n",
    "        y_pred = model(X_batch)\n",
    "        \n",
    "        loss = criterion(y_pred, y_batch.float())\n",
    "        acc = binary_acc(y_pred, y_batch.float())\n",
    "        \n",
    "        loss.backward()\n",
    "        optimizer.step()\n",
    "        \n",
    "        epoch_loss +=loss.item()\n",
    "        epoch_acc +=acc.item()\n",
    "    print(f'Epoch: {e+0:03}: |Loss:{epoch_loss/len(train_loader):.5f} |Acc: {epoch_acc/len(train_loader):.3f}')"
   ]
  },
  {
   "cell_type": "code",
   "execution_count": 31,
   "id": "0d35ffdc",
   "metadata": {},
   "outputs": [],
   "source": [
    "y_pred_list=[]\n",
    "model.eval()\n",
    "with torch.no_grad():\n",
    "    for X_batch, y_batch in test_loader:\n",
    "        torch.no_grad()\n",
    "        y_test_pred = model(X_batch)\n",
    "        y_test_pred = torch.sigmoid(y_test_pred)\n",
    "        y_pred_tag = torch.round(y_test_pred)\n",
    "        y_pred_list.append(y_pred_tag.numpy())\n",
    "        \n",
    "y_pred_list = [a.squeeze().tolist() for a in y_pred_list]"
   ]
  },
  {
   "cell_type": "code",
   "execution_count": 32,
   "id": "25c277b1",
   "metadata": {},
   "outputs": [],
   "source": [
    "from sklearn.metrics import classification_report, confusion_matrix"
   ]
  },
  {
   "cell_type": "code",
   "execution_count": 33,
   "id": "7c7b66f5",
   "metadata": {},
   "outputs": [
    {
     "name": "stdout",
     "output_type": "stream",
     "text": [
      "              precision    recall  f1-score   support\n",
      "\n",
      "         0.0       0.53      0.48      0.50       100\n",
      "         1.0       0.54      0.59      0.57       105\n",
      "\n",
      "    accuracy                           0.54       205\n",
      "   macro avg       0.54      0.54      0.53       205\n",
      "weighted avg       0.54      0.54      0.54       205\n",
      "\n"
     ]
    }
   ],
   "source": [
    "print(classification_report(y_test, y_pred_list))"
   ]
  },
  {
   "cell_type": "code",
   "execution_count": 34,
   "id": "6713c114",
   "metadata": {},
   "outputs": [
    {
     "name": "stdout",
     "output_type": "stream",
     "text": [
      "[[48 52]\n",
      " [43 62]]\n"
     ]
    }
   ],
   "source": [
    "print(confusion_matrix(y_test, y_pred_list))"
   ]
  },
  {
   "cell_type": "markdown",
   "id": "0206f582",
   "metadata": {},
   "source": [
    "Use MLP with 2 hidden layers containing 6 and 4 units respectively. Do not use pytorch, \n",
    "keras, tensorflow or any other libraries. You should create NN from scratch. "
   ]
  },
  {
   "cell_type": "code",
   "execution_count": 39,
   "id": "164bf6fc",
   "metadata": {},
   "outputs": [],
   "source": [
    "X_train, X_test, y_train, y_test = train_test_split(X, y, test_size=0.24, random_state=111, shuffle=True)"
   ]
  },
  {
   "cell_type": "code",
   "execution_count": 40,
   "id": "937cb866",
   "metadata": {},
   "outputs": [],
   "source": [
    "scaler = RobustScaler()\n",
    "X_train = scaler.fit_transform(X_train)\n",
    "X_test = scaler.transform(X_test)"
   ]
  },
  {
   "cell_type": "code",
   "execution_count": 41,
   "id": "8f6b34f0",
   "metadata": {},
   "outputs": [],
   "source": [
    "y_train = np.array(y_train, dtype=np.int64).reshape(len(y_train),1)\n",
    "y_test = np.array(y_test, dtype=np.int64).reshape(len(y_test),1)"
   ]
  },
  {
   "cell_type": "code",
   "execution_count": 42,
   "id": "324c3184",
   "metadata": {},
   "outputs": [],
   "source": [
    "class NeuralNetwork:\n",
    "    def __init__(self, input_size, hidden_sizes, output_size, learning_rate):\n",
    "        self.input_size = input_size\n",
    "        self.hidden_sizes = hidden_sizes\n",
    "        self.output_size = output_size\n",
    "        self.learning_rate = learning_rate\n",
    "        \n",
    "        self.weights = [np.random.rand(input_size, hidden_sizes[0])]\n",
    "        self.biases = [np.zeros((1, hidden_sizes[0]))]\n",
    "        \n",
    "        for i in range(1, len(hidden_sizes)):\n",
    "            self.weights.append(np.random.rand(hidden_sizes[i-1], hidden_sizes[i]))\n",
    "            self.biases.append(np.zeros((1, hidden_sizes[i])))\n",
    "        \n",
    "        self.weights.append(np.random.rand(hidden_sizes[-1], output_size))\n",
    "        self.biases.append(np.zeros((1, output_size)))\n",
    "        \n",
    "    def sigmoid(self, x):\n",
    "        return 1 / (1 + np.exp(-x))\n",
    "    \n",
    "    def sigmoid_derivative(self, x):\n",
    "        return x * (1 - x)\n",
    "    \n",
    "    def forward(self, x):\n",
    "        self.layer_outputs = [x]\n",
    "        \n",
    "        for i in range(len(self.weights)):\n",
    "            layer_input = np.dot(self.layer_outputs[i], self.weights[i]) + self.biases[i]\n",
    "            layer_output = self.sigmoid(layer_input)\n",
    "            self.layer_outputs.append(layer_output)\n",
    "        \n",
    "        return self.layer_outputs[-1]\n",
    "        \n",
    "    def backward(self, x, y, output):\n",
    "        self.output_error = y - output\n",
    "        self.output_delta = self.output_error * self.sigmoid_derivative(output)\n",
    "\n",
    "        for i in range(len(self.weights) - 1, -1, -1):\n",
    "            self.weights[i] += self.learning_rate * np.dot(self.layer_outputs[i].T, self.output_delta)\n",
    "            self.biases[i] += self.learning_rate * np.sum(self.output_delta, axis=0, keepdims=True)\n",
    "\n",
    "            hidden_error = np.dot(self.output_delta, self.weights[i].T)\n",
    "            hidden_delta = hidden_error * self.sigmoid_derivative(self.layer_outputs[i])\n",
    "\n",
    "            self.output_delta = hidden_delta\n",
    "    \n",
    "    def train(self, x, y, epochs, batch_size):\n",
    "        for epoch in range(epochs):\n",
    "            for batch_start in range(0, len(x), batch_size):\n",
    "                batch_end = batch_start + batch_size\n",
    "                batch_x = x[batch_start:batch_end]\n",
    "                batch_y = y[batch_start:batch_end]\n",
    "\n",
    "                output = self.forward(batch_x)\n",
    "                self.backward(batch_x, batch_y, output)\n",
    "\n",
    "            batch_predictions = self.predict(batch_x)\n",
    "            loss = np.mean(np.square(batch_y - batch_predictions))\n",
    "            if epoch % 20 == 0:\n",
    "                print(f\"Epoch {epoch}, Loss: {loss:.4f}\")\n",
    "    \n",
    "    def predict(self, x):\n",
    "        return self.forward(x)"
   ]
  },
  {
   "cell_type": "code",
   "execution_count": 43,
   "id": "3840cd4f",
   "metadata": {},
   "outputs": [],
   "source": [
    "learning_rate = 0.03\n",
    "input_size = X_train.shape[1]\n",
    "hidden_sizes = [6, 4]\n",
    "output_size = 1\n",
    "epochs = 200\n",
    "batch_size = 50"
   ]
  },
  {
   "cell_type": "code",
   "execution_count": 44,
   "id": "5c4d38c9",
   "metadata": {},
   "outputs": [],
   "source": [
    "nn = NeuralNetwork(input_size, hidden_sizes, output_size, learning_rate)"
   ]
  },
  {
   "cell_type": "code",
   "execution_count": 45,
   "id": "eb58dc67",
   "metadata": {},
   "outputs": [
    {
     "name": "stdout",
     "output_type": "stream",
     "text": [
      "Epoch 0, Loss: 0.2513\n",
      "Epoch 20, Loss: 0.1854\n",
      "Epoch 40, Loss: 0.0966\n",
      "Epoch 60, Loss: 0.0748\n",
      "Epoch 80, Loss: 0.0575\n",
      "Epoch 100, Loss: 0.0472\n",
      "Epoch 120, Loss: 0.0413\n",
      "Epoch 140, Loss: 0.0373\n",
      "Epoch 160, Loss: 0.0349\n",
      "Epoch 180, Loss: 0.0315\n"
     ]
    }
   ],
   "source": [
    "nn.train(X_train, y_train, epochs, batch_size)"
   ]
  },
  {
   "cell_type": "code",
   "execution_count": 46,
   "id": "8f04abd4",
   "metadata": {},
   "outputs": [],
   "source": [
    "y_pred = np.round(nn.predict(X_test))"
   ]
  },
  {
   "cell_type": "code",
   "execution_count": 47,
   "id": "df071c49",
   "metadata": {},
   "outputs": [
    {
     "name": "stdout",
     "output_type": "stream",
     "text": [
      "              precision    recall  f1-score   support\n",
      "\n",
      "           0       0.90      0.93      0.92       121\n",
      "           1       0.93      0.90      0.92       125\n",
      "\n",
      "    accuracy                           0.92       246\n",
      "   macro avg       0.92      0.92      0.92       246\n",
      "weighted avg       0.92      0.92      0.92       246\n",
      "\n"
     ]
    }
   ],
   "source": [
    "print(classification_report(y_test, y_pred))"
   ]
  },
  {
   "cell_type": "code",
   "execution_count": 48,
   "id": "c3a12f7f",
   "metadata": {},
   "outputs": [
    {
     "name": "stdout",
     "output_type": "stream",
     "text": [
      "[[113   8]\n",
      " [ 12 113]]\n"
     ]
    }
   ],
   "source": [
    "print(confusion_matrix(y_test, y_pred))"
   ]
  },
  {
   "cell_type": "code",
   "execution_count": null,
   "id": "25180200",
   "metadata": {},
   "outputs": [],
   "source": []
  }
 ],
 "metadata": {
  "kernelspec": {
   "display_name": "Python 3 (ipykernel)",
   "language": "python",
   "name": "python3"
  },
  "language_info": {
   "codemirror_mode": {
    "name": "ipython",
    "version": 3
   },
   "file_extension": ".py",
   "mimetype": "text/x-python",
   "name": "python",
   "nbconvert_exporter": "python",
   "pygments_lexer": "ipython3",
   "version": "3.9.12"
  }
 },
 "nbformat": 4,
 "nbformat_minor": 5
}
